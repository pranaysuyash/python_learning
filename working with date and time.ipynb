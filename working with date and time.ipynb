{
 "cells": [
  {
   "cell_type": "code",
   "execution_count": 1,
   "id": "97db82c0",
   "metadata": {},
   "outputs": [],
   "source": [
    "import pandas as pd"
   ]
  },
  {
   "cell_type": "code",
   "execution_count": 2,
   "id": "0f1f42ed",
   "metadata": {},
   "outputs": [
    {
     "data": {
      "text/html": [
       "<div>\n",
       "<style scoped>\n",
       "    .dataframe tbody tr th:only-of-type {\n",
       "        vertical-align: middle;\n",
       "    }\n",
       "\n",
       "    .dataframe tbody tr th {\n",
       "        vertical-align: top;\n",
       "    }\n",
       "\n",
       "    .dataframe thead th {\n",
       "        text-align: right;\n",
       "    }\n",
       "</style>\n",
       "<table border=\"1\" class=\"dataframe\">\n",
       "  <thead>\n",
       "    <tr style=\"text-align: right;\">\n",
       "      <th></th>\n",
       "      <th>StringID</th>\n",
       "      <th>Product</th>\n",
       "      <th>CustomerGender</th>\n",
       "      <th>Location</th>\n",
       "      <th>Region</th>\n",
       "      <th>TotalPrice</th>\n",
       "      <th>StartDate</th>\n",
       "      <th>Deposit</th>\n",
       "      <th>DailyRate</th>\n",
       "      <th>TotalDaysYr</th>\n",
       "      <th>AmtPaid36</th>\n",
       "      <th>AmtPaid60</th>\n",
       "      <th>AmtPaid360</th>\n",
       "      <th>LoanStatus</th>\n",
       "    </tr>\n",
       "    <tr>\n",
       "      <th>LoanID</th>\n",
       "      <th></th>\n",
       "      <th></th>\n",
       "      <th></th>\n",
       "      <th></th>\n",
       "      <th></th>\n",
       "      <th></th>\n",
       "      <th></th>\n",
       "      <th></th>\n",
       "      <th></th>\n",
       "      <th></th>\n",
       "      <th></th>\n",
       "      <th></th>\n",
       "      <th></th>\n",
       "      <th></th>\n",
       "    </tr>\n",
       "  </thead>\n",
       "  <tbody>\n",
       "    <tr>\n",
       "      <th>1</th>\n",
       "      <td>LoanID_1</td>\n",
       "      <td>Product B</td>\n",
       "      <td>Female</td>\n",
       "      <td>Location 3</td>\n",
       "      <td>Region 2</td>\n",
       "      <td>17600.0</td>\n",
       "      <td>04/07/2018</td>\n",
       "      <td>2200</td>\n",
       "      <td>45</td>\n",
       "      <td>365</td>\n",
       "      <td>3221</td>\n",
       "      <td>4166</td>\n",
       "      <td>14621</td>\n",
       "      <td>Active</td>\n",
       "    </tr>\n",
       "    <tr>\n",
       "      <th>2</th>\n",
       "      <td>LoanID_2</td>\n",
       "      <td>Product D</td>\n",
       "      <td>Female</td>\n",
       "      <td>Location 6</td>\n",
       "      <td>Region 6</td>\n",
       "      <td>NaN</td>\n",
       "      <td>02/01/2019</td>\n",
       "      <td>2200</td>\n",
       "      <td>45</td>\n",
       "      <td>365</td>\n",
       "      <td>3161</td>\n",
       "      <td>4096</td>\n",
       "      <td>16041</td>\n",
       "      <td>Active</td>\n",
       "    </tr>\n",
       "    <tr>\n",
       "      <th>3</th>\n",
       "      <td>LoanID_3</td>\n",
       "      <td>Product B</td>\n",
       "      <td>Male</td>\n",
       "      <td>Location 8</td>\n",
       "      <td>Region 3</td>\n",
       "      <td>16600.0</td>\n",
       "      <td>08/12/2016</td>\n",
       "      <td>1000</td>\n",
       "      <td>45</td>\n",
       "      <td>365</td>\n",
       "      <td>2260</td>\n",
       "      <td>3205</td>\n",
       "      <td>16340</td>\n",
       "      <td>NaN</td>\n",
       "    </tr>\n",
       "    <tr>\n",
       "      <th>4</th>\n",
       "      <td>LoanID_4</td>\n",
       "      <td>Product A</td>\n",
       "      <td>Male</td>\n",
       "      <td>Location 26</td>\n",
       "      <td>Region 2</td>\n",
       "      <td>17600.0</td>\n",
       "      <td>NaN</td>\n",
       "      <td>2200</td>\n",
       "      <td>45</td>\n",
       "      <td>365</td>\n",
       "      <td>3141</td>\n",
       "      <td>4166</td>\n",
       "      <td>16321</td>\n",
       "      <td>Active</td>\n",
       "    </tr>\n",
       "    <tr>\n",
       "      <th>5</th>\n",
       "      <td>LoanID_5</td>\n",
       "      <td>Product B</td>\n",
       "      <td>Female</td>\n",
       "      <td>Location 34</td>\n",
       "      <td>Region 3</td>\n",
       "      <td>21250.0</td>\n",
       "      <td>28/10/2017</td>\n",
       "      <td>2200</td>\n",
       "      <td>55</td>\n",
       "      <td>365</td>\n",
       "      <td>3570</td>\n",
       "      <td>4745</td>\n",
       "      <td>14720</td>\n",
       "      <td>Active</td>\n",
       "    </tr>\n",
       "  </tbody>\n",
       "</table>\n",
       "</div>"
      ],
      "text/plain": [
       "        StringID    Product CustomerGender     Location    Region  TotalPrice  \\\n",
       "LoanID                                                                          \n",
       "1       LoanID_1  Product B         Female   Location 3  Region 2     17600.0   \n",
       "2       LoanID_2  Product D         Female   Location 6  Region 6         NaN   \n",
       "3       LoanID_3  Product B           Male   Location 8  Region 3     16600.0   \n",
       "4       LoanID_4  Product A           Male  Location 26  Region 2     17600.0   \n",
       "5       LoanID_5  Product B         Female  Location 34  Region 3     21250.0   \n",
       "\n",
       "         StartDate  Deposit  DailyRate  TotalDaysYr  AmtPaid36  AmtPaid60  \\\n",
       "LoanID                                                                      \n",
       "1       04/07/2018     2200         45          365       3221       4166   \n",
       "2       02/01/2019     2200         45          365       3161       4096   \n",
       "3       08/12/2016     1000         45          365       2260       3205   \n",
       "4              NaN     2200         45          365       3141       4166   \n",
       "5       28/10/2017     2200         55          365       3570       4745   \n",
       "\n",
       "        AmtPaid360 LoanStatus  \n",
       "LoanID                         \n",
       "1            14621     Active  \n",
       "2            16041     Active  \n",
       "3            16340        NaN  \n",
       "4            16321     Active  \n",
       "5            14720     Active  "
      ]
     },
     "execution_count": 2,
     "metadata": {},
     "output_type": "execute_result"
    }
   ],
   "source": [
    "data = pd.read_csv('Lending-company.csv', index_col = 'LoanID')\n",
    "lending_co_data = data.copy()\n",
    "lending_co_data.head()"
   ]
  },
  {
   "cell_type": "code",
   "execution_count": 3,
   "id": "29c9f830",
   "metadata": {},
   "outputs": [
    {
     "data": {
      "text/plain": [
       "LoanID\n",
       "1    04/07/2018\n",
       "2    02/01/2019\n",
       "3    08/12/2016\n",
       "4           NaN\n",
       "5    28/10/2017\n",
       "Name: StartDate, dtype: object"
      ]
     },
     "execution_count": 3,
     "metadata": {},
     "output_type": "execute_result"
    }
   ],
   "source": [
    "lending_co_data['StartDate'].head()"
   ]
  },
  {
   "cell_type": "code",
   "execution_count": 4,
   "id": "3139073a",
   "metadata": {},
   "outputs": [
    {
     "name": "stdout",
     "output_type": "stream",
     "text": [
      "<class 'pandas.core.frame.DataFrame'>\n",
      "Int64Index: 1043 entries, 1 to 1043\n",
      "Data columns (total 14 columns):\n",
      " #   Column          Non-Null Count  Dtype  \n",
      "---  ------          --------------  -----  \n",
      " 0   StringID        1043 non-null   object \n",
      " 1   Product         1043 non-null   object \n",
      " 2   CustomerGender  1043 non-null   object \n",
      " 3   Location        1043 non-null   object \n",
      " 4   Region          1042 non-null   object \n",
      " 5   TotalPrice      1018 non-null   float64\n",
      " 6   StartDate       1042 non-null   object \n",
      " 7   Deposit         1043 non-null   int64  \n",
      " 8   DailyRate       1043 non-null   int64  \n",
      " 9   TotalDaysYr     1043 non-null   int64  \n",
      " 10  AmtPaid36       1043 non-null   int64  \n",
      " 11  AmtPaid60       1043 non-null   int64  \n",
      " 12  AmtPaid360      1043 non-null   int64  \n",
      " 13  LoanStatus      1006 non-null   object \n",
      "dtypes: float64(1), int64(6), object(7)\n",
      "memory usage: 122.2+ KB\n"
     ]
    }
   ],
   "source": [
    "lending_co_data.info()"
   ]
  },
  {
   "cell_type": "code",
   "execution_count": 5,
   "id": "3b3048f0",
   "metadata": {},
   "outputs": [
    {
     "data": {
      "text/plain": [
       "dtype('O')"
      ]
     },
     "execution_count": 5,
     "metadata": {},
     "output_type": "execute_result"
    }
   ],
   "source": [
    "lending_co_data['StartDate'].dtype"
   ]
  },
  {
   "cell_type": "code",
   "execution_count": 6,
   "id": "ea7874fa",
   "metadata": {},
   "outputs": [],
   "source": [
    "from datetime import date"
   ]
  },
  {
   "cell_type": "code",
   "execution_count": 7,
   "id": "35211a0f",
   "metadata": {},
   "outputs": [
    {
     "data": {
      "text/plain": [
       "datetime.date(2021, 2, 20)"
      ]
     },
     "execution_count": 7,
     "metadata": {},
     "output_type": "execute_result"
    }
   ],
   "source": [
    "my_date = date(2021,2,20)\n",
    "my_date"
   ]
  },
  {
   "cell_type": "code",
   "execution_count": 8,
   "id": "8012832a",
   "metadata": {},
   "outputs": [
    {
     "data": {
      "text/plain": [
       "datetime.date"
      ]
     },
     "execution_count": 8,
     "metadata": {},
     "output_type": "execute_result"
    }
   ],
   "source": [
    "type(my_date)"
   ]
  },
  {
   "cell_type": "code",
   "execution_count": 9,
   "id": "4c0c36fe",
   "metadata": {},
   "outputs": [
    {
     "name": "stdout",
     "output_type": "stream",
     "text": [
      "2021-02-20\n"
     ]
    }
   ],
   "source": [
    "print(my_date)"
   ]
  },
  {
   "cell_type": "code",
   "execution_count": 10,
   "id": "baf81af2",
   "metadata": {},
   "outputs": [
    {
     "data": {
      "text/plain": [
       "2021"
      ]
     },
     "execution_count": 10,
     "metadata": {},
     "output_type": "execute_result"
    }
   ],
   "source": [
    "my_date.year"
   ]
  },
  {
   "cell_type": "code",
   "execution_count": 11,
   "id": "2afa60f5",
   "metadata": {},
   "outputs": [
    {
     "data": {
      "text/plain": [
       "2"
      ]
     },
     "execution_count": 11,
     "metadata": {},
     "output_type": "execute_result"
    }
   ],
   "source": [
    "my_date.month"
   ]
  },
  {
   "cell_type": "code",
   "execution_count": 12,
   "id": "1d9969a2",
   "metadata": {},
   "outputs": [
    {
     "data": {
      "text/plain": [
       "20"
      ]
     },
     "execution_count": 12,
     "metadata": {},
     "output_type": "execute_result"
    }
   ],
   "source": [
    "my_date.day"
   ]
  },
  {
   "cell_type": "code",
   "execution_count": 13,
   "id": "6f44ce63",
   "metadata": {},
   "outputs": [
    {
     "data": {
      "text/plain": [
       "5"
      ]
     },
     "execution_count": 13,
     "metadata": {},
     "output_type": "execute_result"
    }
   ],
   "source": [
    "my_date.weekday()"
   ]
  },
  {
   "cell_type": "code",
   "execution_count": 14,
   "id": "f6377325",
   "metadata": {},
   "outputs": [
    {
     "data": {
      "text/plain": [
       "datetime.timedelta(days=23)"
      ]
     },
     "execution_count": 14,
     "metadata": {},
     "output_type": "execute_result"
    }
   ],
   "source": [
    "date(2021,3,15) - date(2021,2,20)"
   ]
  },
  {
   "cell_type": "code",
   "execution_count": 15,
   "id": "00822f95",
   "metadata": {},
   "outputs": [
    {
     "data": {
      "text/plain": [
       "23"
      ]
     },
     "execution_count": 15,
     "metadata": {},
     "output_type": "execute_result"
    }
   ],
   "source": [
    "delta = date(2021,3,15) - date(2021,2,20)\n",
    "delta.days"
   ]
  },
  {
   "cell_type": "code",
   "execution_count": 16,
   "id": "96f135f8",
   "metadata": {},
   "outputs": [
    {
     "data": {
      "text/plain": [
       "datetime.timedelta"
      ]
     },
     "execution_count": 16,
     "metadata": {},
     "output_type": "execute_result"
    }
   ],
   "source": [
    "type(delta)"
   ]
  },
  {
   "cell_type": "code",
   "execution_count": 17,
   "id": "25d9c5c2",
   "metadata": {},
   "outputs": [
    {
     "data": {
      "text/plain": [
       "datetime.date(2021, 5, 15)"
      ]
     },
     "execution_count": 17,
     "metadata": {},
     "output_type": "execute_result"
    }
   ],
   "source": [
    "date(2021,4,22) + delta"
   ]
  },
  {
   "cell_type": "code",
   "execution_count": 18,
   "id": "7a16b10b",
   "metadata": {},
   "outputs": [
    {
     "name": "stdout",
     "output_type": "stream",
     "text": [
      "2021-05-15\n"
     ]
    }
   ],
   "source": [
    "print(date(2021,4,22) + delta)"
   ]
  },
  {
   "cell_type": "code",
   "execution_count": 19,
   "id": "1214d3e7",
   "metadata": {},
   "outputs": [],
   "source": [
    "from datetime import time"
   ]
  },
  {
   "cell_type": "code",
   "execution_count": 21,
   "id": "7143847a",
   "metadata": {},
   "outputs": [
    {
     "data": {
      "text/plain": [
       "datetime.time(10, 30, 15)"
      ]
     },
     "execution_count": 21,
     "metadata": {},
     "output_type": "execute_result"
    }
   ],
   "source": [
    "local_time = time(hour=10, minute=30, second=15)\n",
    "local_time"
   ]
  },
  {
   "cell_type": "code",
   "execution_count": 22,
   "id": "618ad266",
   "metadata": {},
   "outputs": [
    {
     "data": {
      "text/plain": [
       "datetime.time(10, 30, 15)"
      ]
     },
     "execution_count": 22,
     "metadata": {},
     "output_type": "execute_result"
    }
   ],
   "source": [
    "local_time=time(10,30,15)\n",
    "local_time"
   ]
  },
  {
   "cell_type": "code",
   "execution_count": 23,
   "id": "a1a66686",
   "metadata": {},
   "outputs": [
    {
     "data": {
      "text/plain": [
       "datetime.time"
      ]
     },
     "execution_count": 23,
     "metadata": {},
     "output_type": "execute_result"
    }
   ],
   "source": [
    "type(local_time)"
   ]
  },
  {
   "cell_type": "code",
   "execution_count": 24,
   "id": "3b5c0eee",
   "metadata": {},
   "outputs": [
    {
     "name": "stdout",
     "output_type": "stream",
     "text": [
      "10:30:15\n"
     ]
    }
   ],
   "source": [
    "print(local_time)"
   ]
  },
  {
   "cell_type": "code",
   "execution_count": 25,
   "id": "176cb477",
   "metadata": {},
   "outputs": [
    {
     "data": {
      "text/plain": [
       "10"
      ]
     },
     "execution_count": 25,
     "metadata": {},
     "output_type": "execute_result"
    }
   ],
   "source": [
    "local_time.hour"
   ]
  },
  {
   "cell_type": "code",
   "execution_count": 26,
   "id": "d5d85836",
   "metadata": {},
   "outputs": [
    {
     "data": {
      "text/plain": [
       "30"
      ]
     },
     "execution_count": 26,
     "metadata": {},
     "output_type": "execute_result"
    }
   ],
   "source": [
    "local_time.minute"
   ]
  },
  {
   "cell_type": "code",
   "execution_count": 27,
   "id": "293f696b",
   "metadata": {},
   "outputs": [
    {
     "data": {
      "text/plain": [
       "15"
      ]
     },
     "execution_count": 27,
     "metadata": {},
     "output_type": "execute_result"
    }
   ],
   "source": [
    "local_time.second"
   ]
  },
  {
   "cell_type": "code",
   "execution_count": 28,
   "id": "b448df75",
   "metadata": {},
   "outputs": [
    {
     "data": {
      "text/plain": [
       "0"
      ]
     },
     "execution_count": 28,
     "metadata": {},
     "output_type": "execute_result"
    }
   ],
   "source": [
    "local_time.microsecond"
   ]
  },
  {
   "cell_type": "code",
   "execution_count": 29,
   "id": "2d7d5311",
   "metadata": {},
   "outputs": [
    {
     "name": "stdout",
     "output_type": "stream",
     "text": [
      "00:00:00\n"
     ]
    }
   ],
   "source": [
    "local_time=time()\n",
    "print(local_time)"
   ]
  },
  {
   "cell_type": "code",
   "execution_count": 32,
   "id": "dc583702",
   "metadata": {},
   "outputs": [
    {
     "name": "stdout",
     "output_type": "stream",
     "text": [
      "23:00:00\n"
     ]
    }
   ],
   "source": [
    "# local_time=time(25)\n",
    "# print(local_time)\n",
    "local_time=time(23)\n",
    "print(local_time)"
   ]
  },
  {
   "cell_type": "code",
   "execution_count": 33,
   "id": "fb2fcd91",
   "metadata": {},
   "outputs": [],
   "source": [
    "from datetime import datetime"
   ]
  },
  {
   "cell_type": "code",
   "execution_count": 34,
   "id": "5427edd2",
   "metadata": {},
   "outputs": [
    {
     "data": {
      "text/plain": [
       "datetime.datetime(2021, 2, 20, 22, 30, 12, 500000)"
      ]
     },
     "execution_count": 34,
     "metadata": {},
     "output_type": "execute_result"
    }
   ],
   "source": [
    "my_datetime = datetime(year=2021,month=2,day=20, hour=22,minute=30,second=12,microsecond=500000)\n",
    "my_datetime"
   ]
  },
  {
   "cell_type": "code",
   "execution_count": 35,
   "id": "4785823e",
   "metadata": {},
   "outputs": [
    {
     "data": {
      "text/plain": [
       "datetime.datetime(2021, 2, 20, 22, 30, 12, 500000)"
      ]
     },
     "execution_count": 35,
     "metadata": {},
     "output_type": "execute_result"
    }
   ],
   "source": [
    "my_datetime = datetime(2021,2,20,22,30,12,500000)\n",
    "my_datetime"
   ]
  },
  {
   "cell_type": "code",
   "execution_count": 36,
   "id": "050b2fc2",
   "metadata": {},
   "outputs": [
    {
     "name": "stdout",
     "output_type": "stream",
     "text": [
      "2021-02-20 22:30:12.500000\n"
     ]
    }
   ],
   "source": [
    "print(my_datetime)"
   ]
  },
  {
   "cell_type": "code",
   "execution_count": 37,
   "id": "e649d01f",
   "metadata": {},
   "outputs": [
    {
     "name": "stdout",
     "output_type": "stream",
     "text": [
      "2021-02-20 22:15:00.500000\n"
     ]
    }
   ],
   "source": [
    "my_datetime=my_datetime.replace(minute=15,second=0)\n",
    "print(my_datetime)"
   ]
  },
  {
   "cell_type": "code",
   "execution_count": 38,
   "id": "c24b62cd",
   "metadata": {},
   "outputs": [],
   "source": [
    "from datetime import date, datetime"
   ]
  },
  {
   "cell_type": "code",
   "execution_count": 39,
   "id": "e362dbf9",
   "metadata": {},
   "outputs": [
    {
     "data": {
      "text/plain": [
       "datetime.date(2021, 2, 20)"
      ]
     },
     "execution_count": 39,
     "metadata": {},
     "output_type": "execute_result"
    }
   ],
   "source": [
    "my_date = date(2021,2,20)\n",
    "my_date"
   ]
  },
  {
   "cell_type": "code",
   "execution_count": 42,
   "id": "cc2b1240",
   "metadata": {},
   "outputs": [
    {
     "data": {
      "text/plain": [
       "'2021'"
      ]
     },
     "execution_count": 42,
     "metadata": {},
     "output_type": "execute_result"
    }
   ],
   "source": [
    "my_date.strftime('%Y')"
   ]
  },
  {
   "cell_type": "code",
   "execution_count": 40,
   "id": "8dec8841",
   "metadata": {},
   "outputs": [
    {
     "data": {
      "text/plain": [
       "str"
      ]
     },
     "execution_count": 40,
     "metadata": {},
     "output_type": "execute_result"
    }
   ],
   "source": [
    "type(my_date.strftime('%Y'))"
   ]
  },
  {
   "cell_type": "code",
   "execution_count": 41,
   "id": "138f3954",
   "metadata": {},
   "outputs": [
    {
     "name": "stdout",
     "output_type": "stream",
     "text": [
      "2021\n"
     ]
    }
   ],
   "source": [
    "print(my_date.strftime('%Y'))"
   ]
  },
  {
   "cell_type": "code",
   "execution_count": 43,
   "id": "4ea224e7",
   "metadata": {},
   "outputs": [
    {
     "data": {
      "text/plain": [
       "'20'"
      ]
     },
     "execution_count": 43,
     "metadata": {},
     "output_type": "execute_result"
    }
   ],
   "source": [
    "my_date.strftime('%d')"
   ]
  },
  {
   "cell_type": "code",
   "execution_count": 44,
   "id": "f6ad7a4f",
   "metadata": {},
   "outputs": [
    {
     "data": {
      "text/plain": [
       "'Today is day 20 of month 02.'"
      ]
     },
     "execution_count": 44,
     "metadata": {},
     "output_type": "execute_result"
    }
   ],
   "source": [
    "my_date.strftime('Today is day %d of month %m.')"
   ]
  },
  {
   "cell_type": "code",
   "execution_count": 45,
   "id": "23d89187",
   "metadata": {},
   "outputs": [
    {
     "data": {
      "text/plain": [
       "datetime.datetime(2021, 2, 20, 22, 30, 12, 500000)"
      ]
     },
     "execution_count": 45,
     "metadata": {},
     "output_type": "execute_result"
    }
   ],
   "source": [
    "my_datetime = datetime(2021,2,20,22,30,12,500000)\n",
    "my_datetime"
   ]
  },
  {
   "cell_type": "code",
   "execution_count": 46,
   "id": "d69738d9",
   "metadata": {},
   "outputs": [
    {
     "data": {
      "text/plain": [
       "'It is 22 hour(s), 30 minute(s), and 12 second(s) at the moment.'"
      ]
     },
     "execution_count": 46,
     "metadata": {},
     "output_type": "execute_result"
    }
   ],
   "source": [
    "my_datetime.strftime('It is %H hour(s), %M minute(s), and %S second(s) at the moment.')"
   ]
  },
  {
   "cell_type": "code",
   "execution_count": null,
   "id": "0283787a",
   "metadata": {},
   "outputs": [],
   "source": []
  }
 ],
 "metadata": {
  "kernelspec": {
   "display_name": "Python 3 (ipykernel)",
   "language": "python",
   "name": "python3"
  },
  "language_info": {
   "codemirror_mode": {
    "name": "ipython",
    "version": 3
   },
   "file_extension": ".py",
   "mimetype": "text/x-python",
   "name": "python",
   "nbconvert_exporter": "python",
   "pygments_lexer": "ipython3",
   "version": "3.9.12"
  }
 },
 "nbformat": 4,
 "nbformat_minor": 5
}
